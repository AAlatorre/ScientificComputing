{
 "cells": [
  {
   "cell_type": "code",
   "execution_count": 7,
   "metadata": {},
   "outputs": [
    {
     "data": {
      "text/plain": [
       "u'https://www2.census.gov/geo/tiger/TIGER2010/COUNTY/2010/tl_2010_37_county10.zip'"
      ]
     },
     "execution_count": 7,
     "metadata": {},
     "output_type": "execute_result"
    }
   ],
   "source": [
    "#Import the us package\n",
    "import us\n",
    "\n",
    "#Get a dictionary of the URLs for NC\n",
    "shpURL = us.states.NC.shapefile_urls()\n",
    "\n",
    "#Get the county URL\n",
    "shpURL['county']"
   ]
  },
  {
   "cell_type": "code",
   "execution_count": 48,
   "metadata": {
    "collapsed": true
   },
   "outputs": [],
   "source": [
    "import geopandas as gpd\n",
    "import pandas as pd\n",
    "%matplotlib inline"
   ]
  },
  {
   "cell_type": "code",
   "execution_count": 18,
   "metadata": {},
   "outputs": [],
   "source": [
    "import urllib\n",
    "urllib.urlretrieve(shpURL['county'],filename='foo.zip')"
   ]
  },
  {
   "cell_type": "code",
   "execution_count": 24,
   "metadata": {},
   "outputs": [],
   "source": [
    "import zipfile\n",
    "zf = zipfile.ZipFile(file='foo.zip')\n",
    "zf.extractall()"
   ]
  },
  {
   "cell_type": "code",
   "execution_count": 25,
   "metadata": {
    "collapsed": true
   },
   "outputs": [],
   "source": [
    "gdf = gpd.read_file('tl_2010_37_county10.shp')"
   ]
  },
  {
   "cell_type": "code",
   "execution_count": 27,
   "metadata": {},
   "outputs": [
    {
     "data": {
      "text/plain": [
       "STATEFP10     object\n",
       "COUNTYFP10    object\n",
       "COUNTYNS10    object\n",
       "GEOID10       object\n",
       "NAME10        object\n",
       "NAMELSAD10    object\n",
       "LSAD10        object\n",
       "CLASSFP10     object\n",
       "MTFCC10       object\n",
       "CSAFP10       object\n",
       "CBSAFP10      object\n",
       "METDIVFP10    object\n",
       "FUNCSTAT10    object\n",
       "ALAND10        int64\n",
       "AWATER10       int64\n",
       "INTPTLAT10    object\n",
       "INTPTLON10    object\n",
       "geometry      object\n",
       "dtype: object"
      ]
     },
     "execution_count": 27,
     "metadata": {},
     "output_type": "execute_result"
    }
   ],
   "source": [
    "gdf.dtypes"
   ]
  },
  {
   "cell_type": "code",
   "execution_count": 34,
   "metadata": {},
   "outputs": [
    {
     "data": {
      "text/plain": [
       "STATEFP10                                                    37\n",
       "COUNTYFP10                                                  069\n",
       "COUNTYNS10                                             01008553\n",
       "GEOID10                                                   37069\n",
       "NAME10                                                 Franklin\n",
       "NAMELSAD10                                      Franklin County\n",
       "LSAD10                                                       06\n",
       "CLASSFP10                                                    H1\n",
       "MTFCC10                                                   G4020\n",
       "CSAFP10                                                     450\n",
       "CBSAFP10                                                  39580\n",
       "METDIVFP10                                                     \n",
       "FUNCSTAT10                                                    A\n",
       "ALAND10                                              1273451203\n",
       "AWATER10                                                7294554\n",
       "INTPTLAT10                                          +36.0882406\n",
       "INTPTLON10                                         -078.2830903\n",
       "geometry      POLYGON ((-78.261049 36.260553, -78.2608829999...\n",
       "Name: 0, dtype: object"
      ]
     },
     "execution_count": 34,
     "metadata": {},
     "output_type": "execute_result"
    }
   ],
   "source": [
    "gdf.loc[0]"
   ]
  },
  {
   "cell_type": "code",
   "execution_count": 39,
   "metadata": {},
   "outputs": [],
   "source": [
    "Durm = gdf[gdf['GEOID10'] == '37063']"
   ]
  },
  {
   "cell_type": "code",
   "execution_count": 51,
   "metadata": {},
   "outputs": [
    {
     "data": {
      "image/png": "[encoded data removed]",
      "text/plain": [
       "<matplotlib.figure.Figure at 0x10be92b0>"
      ]
     },
     "metadata": {},
     "output_type": "display_data"
    }
   ],
   "source": [
    "gdf.plot();"
   ]
  }
 ],
 "metadata": {
  "kernelspec": {
   "display_name": "Python 2",
   "language": "python",
   "name": "python2"
  },
  "language_info": {
   "codemirror_mode": {
    "name": "ipython",
    "version": 2
   },
   "file_extension": ".py",
   "mimetype": "text/x-python",
   "name": "python",
   "nbconvert_exporter": "python",
   "pygments_lexer": "ipython2",
   "version": "2.7.13"
  }
 },
 "nbformat": 4,
 "nbformat_minor": 2
}
