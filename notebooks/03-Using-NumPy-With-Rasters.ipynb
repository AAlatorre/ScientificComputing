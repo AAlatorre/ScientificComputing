{
 "cells": [
  {
   "cell_type": "markdown",
   "metadata": {},
   "source": [
    "# Using NumPy with Rasters\n",
    "\n",
    "In addition to converting feature classes in to NumPy arrays, we can also convert entire raster datasets into 2-dimensional arrays. This allows us, as we'll see below, to programmatically extract values from these rasters, or we can integrate these arrays with other packages to perform custom analyses with the data. \n",
    "\n",
    "For more information on this topic see:\n",
    "https://4326.us/esri/scipy/devsummit-2016-scipy-arcgis-presentation-handout.pdf"
   ]
  },
  {
   "cell_type": "code",
   "execution_count": null,
   "metadata": {
    "collapsed": true
   },
   "outputs": [],
   "source": [
    "# Import the modules\n",
    "import arcpy\n",
    "import numpy as np"
   ]
  },
  {
   "cell_type": "code",
   "execution_count": null,
   "metadata": {
    "collapsed": true
   },
   "outputs": [],
   "source": [
    "#Set the name of the file we'll import\n",
    "demFilename = '../Data/DEM.tif'"
   ]
  },
  {
   "cell_type": "code",
   "execution_count": null,
   "metadata": {
    "collapsed": true
   },
   "outputs": [],
   "source": [
    "#Import the DEM as a NumPy array, using only a 200 x 200 pixel subset of it\n",
    "demRaster = arcpy.RasterToNumPyArray(demFilename)"
   ]
  },
  {
   "cell_type": "code",
   "execution_count": null,
   "metadata": {
    "collapsed": true
   },
   "outputs": [],
   "source": [
    "#What is the shape of the raster (i.e. the # of rows and columns)? \n",
    "demRaster.shape\n",
    "#...note it's a 2d array"
   ]
  },
  {
   "cell_type": "code",
   "execution_count": null,
   "metadata": {
    "collapsed": true
   },
   "outputs": [],
   "source": [
    "#Here, we re-import the raster, this time only grabbing a 150 x 150 pixel subset - to speed processing\n",
    "demRaster = arcpy.RasterToNumPyArray(demFilename,'',150,150)"
   ]
  },
  {
   "cell_type": "code",
   "execution_count": null,
   "metadata": {
    "collapsed": true
   },
   "outputs": [],
   "source": [
    "#What is the pixel type?\n",
    "demRaster.dtype"
   ]
  },
  {
   "cell_type": "markdown",
   "metadata": {},
   "source": [
    "As 2-dimensional NumPy array, we can perform rapid stats on the pixel values. We can do this for all the pixels at once, or we can perform stats on specific pixels or subsets of pixels, using their row and columns to identify the subsets. "
   ]
  },
  {
   "cell_type": "code",
   "execution_count": null,
   "metadata": {
    "collapsed": true
   },
   "outputs": [],
   "source": [
    "#Get the value of a specific pixel, here one at the 100th row and 50th column\n",
    "demRaster[99,49]"
   ]
  },
  {
   "cell_type": "code",
   "execution_count": null,
   "metadata": {
    "collapsed": true
   },
   "outputs": [],
   "source": [
    "#Compute the min, max and mean value of all pixels in the 200 x 200 DEM snipped\n",
    "print \"Min:\", demRaster.min()\n",
    "print \"Max:\", demRaster.max()\n",
    "print \"Mean:\", demRaster.mean()"
   ]
  },
  {
   "cell_type": "markdown",
   "metadata": {},
   "source": [
    "To define subsets, we use the same slicing techniques we use for lists and strings, but as this is a 2 dimensional array, we provide two sets of slices; the first slices will be the rows and the second for the columns. We can use a `:` to select all rows or columns. "
   ]
  },
  {
   "cell_type": "code",
   "execution_count": null,
   "metadata": {
    "collapsed": true
   },
   "outputs": [],
   "source": [
    "#Get the max for the 10th column of pixels, \n",
    "# (using `:` to select all rows and `9` to select just the 10th column)\n",
    "print(demRaster[:,9].max())"
   ]
  },
  {
   "cell_type": "code",
   "execution_count": null,
   "metadata": {
    "collapsed": true
   },
   "outputs": [],
   "source": [
    "#Get the mean for the first 10 rows of pixels, selecting all columns\n",
    "# (We can put a `:` as the second slice, or leave it blank after the comma...)\n",
    "x = demRaster[:10,]\n",
    "x.shape\n",
    "x.mean()"
   ]
  },
  {
   "cell_type": "markdown",
   "metadata": {},
   "source": [
    "The SciPy package has a number of multi-dimensional image processing capabilities (see https://docs.scipy.org/doc/scipy/reference/ndimage.html). Here is a somewhat complex example that runs through 10 iterations of computing a neighborhood mean (using the nd.median_filter) with an incrementally growing neighorhood. We then subtract that neighborhood median elevation from the original elevation to compute Topographic Position Index (TPI, see http://www.jennessent.com/downloads/tpi-poster-tnc_18x22.pdf)\n",
    "\n",
    "If you don't fully understand how it works, at least appreciate that converting a raster to a NumPy array enables us to use other packages to execute custom analyses on the data. "
   ]
  },
  {
   "cell_type": "code",
   "execution_count": null,
   "metadata": {
    "collapsed": true
   },
   "outputs": [],
   "source": [
    "#Import the SciPy and plotting packages\n",
    "import scipy.ndimage as nd\n",
    "from matplotlib import pyplot as plt\n",
    "\n",
    "#Allows plots in our Jupyter Notebook\n",
    "%matplotlib inline\n",
    "\n",
    "#Create a 'canvas' onto which we can add plots\n",
    "fig = plt.figure(figsize=(20,20))\n",
    "\n",
    "#Loop through 10 iterations\n",
    "for i in xrange(10):\n",
    "    #Create a kernel, intially 3 x 3, then expanding 3 x 3 at each iteration \n",
    "    size = (i+1) * 3\n",
    "    print size,\n",
    "    #Compute the median value for the kernel surrounding each pixel\n",
    "    med = nd.median_filter(demRaster, size)\n",
    "    #Subtract the median elevation from the original to compute TPI\n",
    "    tpi = demRaster - med\n",
    "    #Create a subplot frame\n",
    "    a = fig.add_subplot(5, 5,i+1)\n",
    "    #Show the median interpolated DEM\n",
    "    plt.imshow(tpi, interpolation='nearest')\n",
    "    #Set titles for the plot\n",
    "    a.set_title('{}x{}'.format(size, size))\n",
    "    plt.axis('off')\n",
    "    plt.subplots_adjust(hspace = 0.1)\n",
    "    prev = med"
   ]
  }
 ],
 "metadata": {
  "kernelspec": {
   "display_name": "Python 2",
   "language": "python",
   "name": "python2"
  },
  "language_info": {
   "codemirror_mode": {
    "name": "ipython",
    "version": 2
   },
   "file_extension": ".py",
   "mimetype": "text/x-python",
   "name": "python",
   "nbconvert_exporter": "python",
   "pygments_lexer": "ipython2",
   "version": "2.7.13"
  }
 },
 "nbformat": 4,
 "nbformat_minor": 2
}
