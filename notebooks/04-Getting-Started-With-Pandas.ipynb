{
 "cells": [
  {
   "cell_type": "markdown",
   "metadata": {},
   "source": [
    "# Working With Pandas DataFrames in Python\n",
    "Source: http://www.datacarpentry.org/python-ecology-lesson/01-starting-with-data/\n",
    "\n",
    "One of the best options for working with tabular data in Python is to use the [Python Data Analysis Library](http://pandas.pydata.org/) (a.k.a. Pandas). The Pandas library provides data structures, produces high quality plots with [matplotlib](http://matplotlib.org/) and integrates nicely with other libraries that use [NumPy](http://www.numpy.org/) arrays.\n",
    "\n",
    "We begin by **importing the pandas library**. By convention, we often import pandas with the `pd` alias. "
   ]
  },
  {
   "cell_type": "code",
   "execution_count": null,
   "metadata": {
    "collapsed": true
   },
   "outputs": [],
   "source": [
    "#Import pandas, using the alias 'pd'\n",
    "import pandas as pd"
   ]
  },
  {
   "cell_type": "markdown",
   "metadata": {},
   "source": [
    "## Reading CSV Data Using Pandas\n",
    "In the Data folder within our workspace is a file named `surveys.csv` which holds the data we'll use for our exercises. If you're curious, this dataset is part of the [Portal Teaching data](https://figshare.com/articles/Portal_Project_Teaching_Database/1314459), a subset of the data from Ernst et al [Long-term monitoring and experimental manipulation of a Chihuahuan Desert ecosystem near Portal, Arizona, USA](http://www.esapubs.org/archive/ecol/E090/118/default.htm).\n",
    "\n",
    "We are studying the species and weight of animals caught in plots in our study area. The dataset is stored as a `.csv` file: each row holds information for a single animal, and the columns represent:\n",
    "\n",
    "| Column | Description |\n",
    "| :--- | :--- |\n",
    "|record_id |\tUnique id for the observation |\n",
    "|month| \tmonth of observation |\n",
    "|day |\tday of observation |\n",
    "|year |\tyear of observation |\n",
    "|plot_id |\tID of a particular plot |\n",
    "|species_id |\t2-letter code |\n",
    "|sex |\tsex of animal (“M”, “F”) |\n",
    "|hindfoot_length |\tlength of the hindfoot in mm |\n",
    "|weight |\tweight of the animal in grams |"
   ]
  },
  {
   "cell_type": "markdown",
   "metadata": {},
   "source": [
    "## So what *is* a DataFrame?\n",
    "A DataFrame is a 2-dimensional data structure that can store data of different types (including characters, integers, floating point values, factors and more) in columns. It is similar to a spreadsheet or an SQL table or the data.frame in R. A DataFrame always has an index (0-based). An index refers to the position of an element in the data structure."
   ]
  },
  {
   "cell_type": "code",
   "execution_count": null,
   "metadata": {},
   "outputs": [],
   "source": [
    "#Read in the csv file as a data frame, holding it in the object called surveys_df\n",
    "surveys_df = pd.read_csv('../data/surveys.csv')"
   ]
  },
  {
   "cell_type": "markdown",
   "metadata": {},
   "source": [
    "We can print the entire contents of the data frame by just calling the object.\n",
    "\n",
    "`\n",
    "Remember that in Jupyter notebooks, we can toggle the output by clicking the lightly shaded area to the left of it...\n",
    "`"
   ]
  },
  {
   "cell_type": "code",
   "execution_count": null,
   "metadata": {
    "collapsed": true
   },
   "outputs": [],
   "source": [
    "#Show the data frame's contents\n",
    "surveys_df"
   ]
  },
  {
   "cell_type": "markdown",
   "metadata": {},
   "source": [
    "At the bottom of the [long] output above, we see that the data includes 33,549 rows and 9 columns. \n",
    "\n",
    "The first column is the **index** of the DataFrame. The index is used to identify the position of the data, but it is not an actual column of the DataFrame. It looks like the read_csv function in Pandas read our file properly. "
   ]
  },
  {
   "cell_type": "markdown",
   "metadata": {},
   "source": [
    "## Exploring our Species Survey Data\n",
    "Now, as we often do, let's look at the type of the object we just created."
   ]
  },
  {
   "cell_type": "code",
   "execution_count": null,
   "metadata": {},
   "outputs": [],
   "source": [
    "#Show the object type of the object we just created\n",
    "type(surveys_df)"
   ]
  },
  {
   "cell_type": "markdown",
   "metadata": {},
   "source": [
    "As expected, it’s a DataFrame (or, to use the full name that Python uses to refer to it internally, a pandas.core.frame.DataFrame).\n",
    "\n",
    "What kind of things does surveys_df contain? DataFrames have an attribute called `dtypes` that answers this:"
   ]
  },
  {
   "cell_type": "code",
   "execution_count": null,
   "metadata": {},
   "outputs": [],
   "source": [
    "#Show the data types of the columns in our data frame\n",
    "surveys_df.dtypes"
   ]
  },
  {
   "cell_type": "markdown",
   "metadata": {},
   "source": [
    "All the values in a column have the same type. For example, months have type `int64`, which is a kind of integer. Cells in the month column cannot have fractional values, but the weight and hindfoot_length columns can, because they have type `float64`. The `object` type doesn’t have a very helpful name, but in this case it represents strings (such as ‘M’ and ‘F’ in the case of sex)."
   ]
  },
  {
   "cell_type": "markdown",
   "metadata": {},
   "source": [
    "## Useful Ways to View DataFrame Objects in Python\n",
    "There are many ways to summarize and access the data stored in DataFrames, using attributes and methods provided by the `DataFrame` object.\n",
    "\n",
    "To access an <u>attribute</u>, use the DataFrame object name followed by the attribute name `df_object.attribute`. Using the DataFrame `surveys_df` and `attribute` columns, an index of all the column names in the DataFrame can be accessed with `surveys_df.columns`.\n",
    "\n",
    "<u>Methods</u> are called in a similar fashion using the syntax `df_object.method()`. As an example, `surveys_df.head()` gets the first few rows in the DataFrame `surveys_df` using the `head()` method. With a method, we can supply extra information in the parens to control behaviour.\n",
    "\n",
    "Let’s look at the data using these."
   ]
  },
  {
   "cell_type": "markdown",
   "metadata": {},
   "source": [
    "---\n",
    "### <font color='red'>Challenge - DataFrames</font>\n",
    "Using our DataFrame surveys_df, try out the attributes & methods below to see what they return.\n",
    "1. `surveys_df.columns`\n",
    "1. `surveys_df.shape`    Take note of the output of shape - what format does it return the shape of the DataFrame in?\n",
    "1. `surveys_df.head()`   Also, what does surveys_df.head(15) do?\n",
    "1. `surveys_df.tail()`\n",
    "\n",
    "*Use the boxes below to type in the above commands and see what they produce.*"
   ]
  },
  {
   "cell_type": "code",
   "execution_count": null,
   "metadata": {
    "collapsed": true
   },
   "outputs": [],
   "source": [
    "#Complete challenge 1\n",
    "surveys_df."
   ]
  },
  {
   "cell_type": "code",
   "execution_count": null,
   "metadata": {
    "collapsed": true
   },
   "outputs": [],
   "source": [
    "#Complete challenge 2\n"
   ]
  },
  {
   "cell_type": "code",
   "execution_count": null,
   "metadata": {
    "collapsed": true
   },
   "outputs": [],
   "source": [
    "#Complete challenge 3\n"
   ]
  },
  {
   "cell_type": "code",
   "execution_count": null,
   "metadata": {
    "collapsed": true
   },
   "outputs": [],
   "source": [
    "#Complete challenge 3\n"
   ]
  },
  {
   "cell_type": "markdown",
   "metadata": {},
   "source": [
    "---\n",
    "\n",
    "## Generating Counts and Lists From Data In A Pandas DataFrame\n",
    "We’ve read our data into Python. Next, let’s perform some quick summary statistics to learn more about the data that we’re working with. We might want to know how many animals were collected in each plot, or how many of each species were caught. We can perform summary stats quickly using groups. But first we need to figure out what we want to group by.\n",
    "\n",
    "Let’s begin by exploring the data in our data frame:\n",
    "\n",
    "First, examine the column names. (Yes,I know we just did that in the Challenge above...)"
   ]
  },
  {
   "cell_type": "code",
   "execution_count": null,
   "metadata": {},
   "outputs": [],
   "source": [
    "# Look at the column names\n",
    "surveys_df.columns"
   ]
  },
  {
   "cell_type": "markdown",
   "metadata": {},
   "source": [
    "We can extract one column of data into a new object by referencing that column as shown here:"
   ]
  },
  {
   "cell_type": "code",
   "execution_count": null,
   "metadata": {},
   "outputs": [],
   "source": [
    "speciesIDs = surveys_df['species_id']"
   ]
  },
  {
   "cell_type": "markdown",
   "metadata": {},
   "source": [
    "Examining the type of this `speciesIDs` object reveals another Pandas data type: the *Series* which is slightly different than a DataFrame..."
   ]
  },
  {
   "cell_type": "code",
   "execution_count": null,
   "metadata": {},
   "outputs": [],
   "source": [
    "type(speciesIDs)"
   ]
  },
  {
   "cell_type": "markdown",
   "metadata": {},
   "source": [
    "A `series` object is a one-dimensional array, much like a NumPy array, with its own set of properties and functions. The values are indexed allowing us to extract values at a specific row (try: `speciesIDs[5]`) or slice of rows (try: `species[2:7]`). \n",
    "\n",
    "We can also, using the `series.nunique()` and `series.unique()` functions, generate a count of unique values in the series and a list of unique values, respectively. \n"
   ]
  },
  {
   "cell_type": "code",
   "execution_count": null,
   "metadata": {},
   "outputs": [],
   "source": [
    "#Reveal how many unique species_ID values are in the table\n",
    "speciesIDs.nunique()"
   ]
  },
  {
   "cell_type": "code",
   "execution_count": null,
   "metadata": {},
   "outputs": [],
   "source": [
    "#List the unique values\n",
    "speciesIDs.unique()"
   ]
  },
  {
   "cell_type": "markdown",
   "metadata": {},
   "source": [
    "---\n",
    "### <font color='red'>Challenge - Counts and Lists from Data </font>\n",
    "\n",
    "\n",
    "1. Create a list of unique plot ID’s found in the surveys data. Call it `plot_names`. How many unique plots are there in the data? How many unique species are in the data?\n",
    "\n",
    "1. What is the difference between `len(plot_names)` and `surveys_df['plot_id'].nunique()`?\n"
   ]
  },
  {
   "cell_type": "code",
   "execution_count": null,
   "metadata": {
    "collapsed": true
   },
   "outputs": [],
   "source": [
    "#Challenge 1"
   ]
  },
  {
   "cell_type": "code",
   "execution_count": null,
   "metadata": {
    "collapsed": true
   },
   "outputs": [],
   "source": [
    "#Challenge 2"
   ]
  },
  {
   "cell_type": "markdown",
   "metadata": {},
   "source": [
    "---\n",
    "\n",
    "## Groups in Pandas\n",
    "We often want to calculate summary statistics grouped by subsets or attributes within fields of our data. For example, we might want to calculate the average weight of all individuals per plot.\n",
    "\n",
    "We can calculate basic statistics for all records in a single column using the syntax below:"
   ]
  },
  {
   "cell_type": "code",
   "execution_count": null,
   "metadata": {},
   "outputs": [],
   "source": [
    "surveys_df['weight'].describe()"
   ]
  },
  {
   "cell_type": "markdown",
   "metadata": {},
   "source": [
    "We can also extract one specific metric if we wish:"
   ]
  },
  {
   "cell_type": "code",
   "execution_count": null,
   "metadata": {
    "collapsed": true
   },
   "outputs": [],
   "source": [
    "print\" Min: \", surveys_df['weight'].min()\n",
    "print\" Max: \", surveys_df['weight'].max()\n",
    "print\" Mean: \", surveys_df['weight'].mean()\n",
    "print\" Std Dev: \", surveys_df['weight'].std()\n",
    "print\" Count: \", surveys_df['weight'].count()"
   ]
  },
  {
   "cell_type": "markdown",
   "metadata": {},
   "source": [
    "But if we want to summarize by one or more variables, for example sex, we can use Pandas’ `.groupby` method. Once we’ve created a groupby DataFrame, we can quickly calculate summary statistics by a group of our choice."
   ]
  },
  {
   "cell_type": "code",
   "execution_count": null,
   "metadata": {},
   "outputs": [],
   "source": [
    "# Group data by sex\n",
    "grouped_data = surveys_df.groupby(by='sex')\n",
    "type(grouped_data)"
   ]
  },
  {
   "cell_type": "code",
   "execution_count": null,
   "metadata": {
    "collapsed": true
   },
   "outputs": [],
   "source": [
    "# Show just the grouped means\n",
    "grouped_data.mean()"
   ]
  },
  {
   "cell_type": "code",
   "execution_count": null,
   "metadata": {
    "collapsed": true
   },
   "outputs": [],
   "source": [
    "# Or, use the describe function to reveal all summary stats for the grouped data\n",
    "grouped_data.describe()"
   ]
  },
  {
   "cell_type": "markdown",
   "metadata": {},
   "source": [
    "---\n",
    "### <font color='red'>Challenge - Summary Data </font>\n",
    "1. Using the grouped data object above, how many recorded individuals are female `F` and how many male `M`?\n",
    "1. What happens when you group by two columns using the following syntax and then grab mean values:\n",
    " * `grouped_data2 = surveys_df.groupby(['plot_id','sex'])`\n",
    " * `grouped_data2.mean()`\n",
    "1. Summarize weight values <u>for each plot</u> in your data. HINT: you can use the following syntax to only create summary statistics for one column in your data `by_plot['weight'].describe()`\n"
   ]
  },
  {
   "cell_type": "code",
   "execution_count": null,
   "metadata": {},
   "outputs": [],
   "source": [
    "# Challenge 1 - generate a count of F and M species from the grouped_data object\n",
    "grouped_data.    ()"
   ]
  },
  {
   "cell_type": "code",
   "execution_count": null,
   "metadata": {},
   "outputs": [],
   "source": [
    "# Challenge 2 - group on two columns (plot_id, and sex) and compute the mean)\n",
    "grouped_data2 = surveys_df.groupby(['plot_id','sex'])\n",
    "grouped_data2.mean()"
   ]
  },
  {
   "cell_type": "code",
   "execution_count": null,
   "metadata": {},
   "outputs": [],
   "source": [
    "# Challenge 3 - Group List the summary stats of the weight column\n",
    "by_plot = surveys_df.groupby('    ')\n",
    "by_plot['    '].describe()"
   ]
  },
  {
   "cell_type": "markdown",
   "metadata": {},
   "source": [
    "---"
   ]
  },
  {
   "cell_type": "markdown",
   "metadata": {},
   "source": [
    "## Quickly Creating Summary Counts in Pandas\n",
    "Let’s next <u>count the number of samples for each species</u>. We can do this in a few ways, but we’ll use `groupby` combined with a `count()` method."
   ]
  },
  {
   "cell_type": "code",
   "execution_count": null,
   "metadata": {},
   "outputs": [],
   "source": [
    "# count the number of samples by species\n",
    "species_counts = surveys_df.groupby('species_id')['record_id'].count()\n",
    "print(species_counts)"
   ]
  },
  {
   "cell_type": "markdown",
   "metadata": {},
   "source": [
    "Or, we can also count just the rows that have the `species_id` = “DO” by adding a filter at the end of the statement. "
   ]
  },
  {
   "cell_type": "code",
   "execution_count": null,
   "metadata": {},
   "outputs": [],
   "source": [
    "DO_counts = surveys_df.groupby('species_id')['record_id'].count()['DO']\n",
    "print(DO_counts)"
   ]
  },
  {
   "cell_type": "markdown",
   "metadata": {},
   "source": [
    "### *More complex aggregating functions...*\n",
    "We can also supply a dictionary of functions so that each column in the grouped result is aggregated exactly how we want (i.e. instead of computing just the sum or mean of all columns). This dictionary is built by specifying the column name as the key and the aggregate function(s) as the values. Below is an example to aggregate the data by `sex`, computing the minumum and maximum of the `year`, the median of the `hindfoot_length`, and the mean `weight`."
   ]
  },
  {
   "cell_type": "code",
   "execution_count": null,
   "metadata": {},
   "outputs": [],
   "source": [
    "aggFuncs = {\"year\": ['min','max'],\"hindfoot_length\": 'median',\"weight\": 'mean'}\n",
    "surveys_df.groupby('sex').agg(aggFuncs)"
   ]
  },
  {
   "cell_type": "markdown",
   "metadata": {},
   "source": [
    "---\n",
    "### Basic Math Functions\n",
    "If we wanted to, we could perform math on an entire column of our data. For example let’s multiply all weight values by 2. A more practical use of this might be to normalize the data according to a mean, area, or some other value calculated from our data."
   ]
  },
  {
   "cell_type": "code",
   "execution_count": null,
   "metadata": {
    "collapsed": true
   },
   "outputs": [],
   "source": [
    "# multiply all weight values by 2\n",
    "surveys_df['weight'] * 2"
   ]
  },
  {
   "cell_type": "markdown",
   "metadata": {},
   "source": [
    "## Quick & Easy Plotting Data Using Pandas\n",
    "We can plot our summary stats using Pandas, too. First, to enable plots to appear in our notebook, we use the 'magic' command `%matplotlib inline`. (Note, if you use `%matplotlib notebook` instead, you get *interactive* plots, but they can be a bit less reliable...)\n",
    "\n",
    "Documentation on plotting in Pandas is here:<br> http://pandas.pydata.org/pandas-docs/stable/visualization.html#basic-plotting-plot\n",
    "\n",
    "Let't try a few examples:"
   ]
  },
  {
   "cell_type": "code",
   "execution_count": null,
   "metadata": {
    "collapsed": true
   },
   "outputs": [],
   "source": [
    "# make sure figures appear inline in Ipython Notebook\n",
    "%matplotlib inline"
   ]
  },
  {
   "cell_type": "code",
   "execution_count": null,
   "metadata": {},
   "outputs": [],
   "source": [
    "# create a quick bar chart by setting `kind` to 'bar'\n",
    "species_counts.plot(kind='bar'); #<-- the `;` at the end avoids repeating the command to the window"
   ]
  },
  {
   "cell_type": "markdown",
   "metadata": {},
   "source": [
    "---\n",
    "### <font color='red'>Challenge - Plots</font>\n",
    "1. Create a plot of average weight across all species per plot.<br>Hint: you first need to summarize the data on plot_id, computing mean of the weigth column, then follow the syntax above. \n",
    "1. Create a plot of total count of males versus total females for the entire dataset."
   ]
  },
  {
   "cell_type": "code",
   "execution_count": null,
   "metadata": {},
   "outputs": [],
   "source": [
    "#Challenge 1: Plot average weight per plot\n",
    "surveys_df.groupby('   ').mean()['   '].plot(kind='bar');"
   ]
  },
  {
   "cell_type": "code",
   "execution_count": null,
   "metadata": {},
   "outputs": [],
   "source": [
    "#Challenge 2 \n",
    "surveys_df.    ('sex').    ()['    '].plot(kind='    ');"
   ]
  },
  {
   "cell_type": "markdown",
   "metadata": {},
   "source": [
    "---\n",
    "### Advanced Plotting...</font>\n",
    "Create a stacked bar plot, with weight on the Y axis, and the stacked variable being `sex`. The plot should show total weight by sex for each plot. Some tips are below to help you solve this challenge:\n",
    "\n",
    "* For more on Pandas plots, visit this link: http://pandas.pydata.org/pandas-docs/stable/visualization.html#basic-plotting-plot\n",
    "* You can use the code that follows to create a stacked bar plot but the data to stack need to be in individual columns. Here’s a simple example with some data where ‘a’, ‘b’, and ‘c’ are the groups, and ‘one’ and ‘two’ are the subgroups."
   ]
  },
  {
   "cell_type": "code",
   "execution_count": null,
   "metadata": {},
   "outputs": [],
   "source": [
    "d = {'one' : pd.Series([1., 2., 3.], \n",
    "                       index=['a', 'b', 'c']),\n",
    "     'two' : pd.Series([1., 2., 3., 4.], \n",
    "                       index=['a', 'b', 'c', 'd'])}\n",
    "pd.DataFrame(d)"
   ]
  },
  {
   "cell_type": "markdown",
   "metadata": {},
   "source": [
    "We can plot the above with:"
   ]
  },
  {
   "cell_type": "code",
   "execution_count": null,
   "metadata": {},
   "outputs": [],
   "source": [
    "# plot stacked data so columns 'one' and 'two' are stacked\n",
    "my_df = pd.DataFrame(d)\n",
    "my_df.plot(kind='bar',stacked=True,title=\"The title of my graph\");"
   ]
  },
  {
   "cell_type": "markdown",
   "metadata": {},
   "source": [
    "*  You can use the .unstack() method to transform grouped data into columns for each plotting. Try running .unstack() on some DataFrames above and see what it yields.\n",
    "\n",
    "Start by transforming the grouped data (by plot and sex) into an unstacked layout, then create a stacked plot."
   ]
  },
  {
   "cell_type": "code",
   "execution_count": null,
   "metadata": {
    "scrolled": true
   },
   "outputs": [],
   "source": [
    "#Group data by plot and by sex, and then calculate a sum of weights for each plot.\n",
    "by_plot_sex = surveys_df.groupby(['plot_id','sex'])\n",
    "plot_sex_count = by_plot_sex['weight'].sum()\n",
    "plot_sex_count"
   ]
  },
  {
   "cell_type": "markdown",
   "metadata": {
    "collapsed": true
   },
   "source": [
    "Below we’ll use .unstack() on our grouped data to figure out the total weight that each sex contributed to each plot."
   ]
  },
  {
   "cell_type": "code",
   "execution_count": null,
   "metadata": {
    "scrolled": true
   },
   "outputs": [],
   "source": [
    "by_plot_sex = surveys_df.groupby(['plot_id','sex'])\n",
    "plot_sex_count = by_plot_sex['weight'].sum()\n",
    "plot_sex_count.unstack()"
   ]
  },
  {
   "cell_type": "markdown",
   "metadata": {},
   "source": [
    "Now, create a stacked bar plot with that data where the weights for each sex are stacked by plot.\n",
    "\n",
    "Rather than display it as a table, we can plot the above data by stacking the values of each sex as follows:"
   ]
  },
  {
   "cell_type": "code",
   "execution_count": null,
   "metadata": {},
   "outputs": [],
   "source": [
    "s_plot = spc.plot(kind='bar',stacked=True,title=\"Total weight by plot and sex\")\n",
    "s_plot.set_ylabel(\"Weight\")\n",
    "s_plot.set_xlabel(\"Plot\");"
   ]
  }
 ],
 "metadata": {
  "kernelspec": {
   "display_name": "Python 2",
   "language": "python",
   "name": "python2"
  },
  "language_info": {
   "codemirror_mode": {
    "name": "ipython",
    "version": 2
   },
   "file_extension": ".py",
   "mimetype": "text/x-python",
   "name": "python",
   "nbconvert_exporter": "python",
   "pygments_lexer": "ipython2",
   "version": "2.7.13"
  }
 },
 "nbformat": 4,
 "nbformat_minor": 2
}
